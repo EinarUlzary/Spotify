{
 "metadata": {
  "language_info": {
   "codemirror_mode": {
    "name": "ipython",
    "version": 3
   },
   "file_extension": ".py",
   "mimetype": "text/x-python",
   "name": "python",
   "nbconvert_exporter": "python",
   "pygments_lexer": "ipython3",
   "version": "3.8.2-final"
  },
  "orig_nbformat": 2,
  "kernelspec": {
   "name": "python_defaultSpec_1601103818301",
   "display_name": "Python 3.8.2 32-bit"
  }
 },
 "nbformat": 4,
 "nbformat_minor": 2,
 "cells": [
  {
   "cell_type": "code",
   "execution_count": 14,
   "metadata": {},
   "outputs": [
    {
     "output_type": "execute_result",
     "data": {
      "text/plain": "   acousticness                                   artists  danceability  \\\n0         0.995                       ['Carl Woitschach']         0.708   \n1         0.994  ['Robert Schumann', 'Vladimir Horowitz']         0.379   \n2         0.604                   ['Seweryn Goszczyński']         0.749   \n3         0.995                      ['Francisco Canaro']         0.781   \n4         0.990  ['Frédéric Chopin', 'Vladimir Horowitz']         0.210   \n\n   duration_ms  energy  explicit                      id  instrumentalness  \\\n0       158648  0.1950         0  6KbQ3uYMLKb5jDxLF7wYDD             0.563   \n1       282133  0.0135         0  6KuQTIu1KoTTkLXKrwlLPV             0.901   \n2       104300  0.2200         0  6L63VW0PibdM1HDSBoqnoM             0.000   \n3       180760  0.1300         0  6M94FkXd15sOAOQYRnWPN8             0.887   \n4       687733  0.2040         0  6N6tiFZ9vLTSOIxkj8qKrd             0.908   \n\n   key  liveness  loudness  mode  \\\n0   10    0.1510   -12.428     1   \n1    8    0.0763   -28.454     1   \n2    5    0.1190   -19.924     0   \n3    1    0.1110   -14.734     0   \n4   11    0.0980   -16.829     1   \n\n                                            name  popularity release_date  \\\n0                    Singende Bataillone 1. Teil           0         1928   \n1       Fantasiestücke, Op. 111: Più tosto lento           0         1928   \n2                 Chapter 1.18 - Zamek kaniowski           0         1928   \n3  Bebamos Juntos - Instrumental (Remasterizado)           0   1928-09-25   \n4    Polonaise-Fantaisie in A-Flat Major, Op. 61           1         1928   \n\n   speechiness    tempo  valence  year  \n0       0.0506  118.469   0.7790  1928  \n1       0.0462   83.972   0.0767  1928  \n2       0.9290  107.177   0.8800  1928  \n3       0.0926  108.003   0.7200  1928  \n4       0.0424   62.149   0.0693  1928  ",
      "text/html": "<div>\n<style scoped>\n    .dataframe tbody tr th:only-of-type {\n        vertical-align: middle;\n    }\n\n    .dataframe tbody tr th {\n        vertical-align: top;\n    }\n\n    .dataframe thead th {\n        text-align: right;\n    }\n</style>\n<table border=\"1\" class=\"dataframe\">\n  <thead>\n    <tr style=\"text-align: right;\">\n      <th></th>\n      <th>acousticness</th>\n      <th>artists</th>\n      <th>danceability</th>\n      <th>duration_ms</th>\n      <th>energy</th>\n      <th>explicit</th>\n      <th>id</th>\n      <th>instrumentalness</th>\n      <th>key</th>\n      <th>liveness</th>\n      <th>loudness</th>\n      <th>mode</th>\n      <th>name</th>\n      <th>popularity</th>\n      <th>release_date</th>\n      <th>speechiness</th>\n      <th>tempo</th>\n      <th>valence</th>\n      <th>year</th>\n    </tr>\n  </thead>\n  <tbody>\n    <tr>\n      <th>0</th>\n      <td>0.995</td>\n      <td>['Carl Woitschach']</td>\n      <td>0.708</td>\n      <td>158648</td>\n      <td>0.1950</td>\n      <td>0</td>\n      <td>6KbQ3uYMLKb5jDxLF7wYDD</td>\n      <td>0.563</td>\n      <td>10</td>\n      <td>0.1510</td>\n      <td>-12.428</td>\n      <td>1</td>\n      <td>Singende Bataillone 1. Teil</td>\n      <td>0</td>\n      <td>1928</td>\n      <td>0.0506</td>\n      <td>118.469</td>\n      <td>0.7790</td>\n      <td>1928</td>\n    </tr>\n    <tr>\n      <th>1</th>\n      <td>0.994</td>\n      <td>['Robert Schumann', 'Vladimir Horowitz']</td>\n      <td>0.379</td>\n      <td>282133</td>\n      <td>0.0135</td>\n      <td>0</td>\n      <td>6KuQTIu1KoTTkLXKrwlLPV</td>\n      <td>0.901</td>\n      <td>8</td>\n      <td>0.0763</td>\n      <td>-28.454</td>\n      <td>1</td>\n      <td>Fantasiestücke, Op. 111: Più tosto lento</td>\n      <td>0</td>\n      <td>1928</td>\n      <td>0.0462</td>\n      <td>83.972</td>\n      <td>0.0767</td>\n      <td>1928</td>\n    </tr>\n    <tr>\n      <th>2</th>\n      <td>0.604</td>\n      <td>['Seweryn Goszczyński']</td>\n      <td>0.749</td>\n      <td>104300</td>\n      <td>0.2200</td>\n      <td>0</td>\n      <td>6L63VW0PibdM1HDSBoqnoM</td>\n      <td>0.000</td>\n      <td>5</td>\n      <td>0.1190</td>\n      <td>-19.924</td>\n      <td>0</td>\n      <td>Chapter 1.18 - Zamek kaniowski</td>\n      <td>0</td>\n      <td>1928</td>\n      <td>0.9290</td>\n      <td>107.177</td>\n      <td>0.8800</td>\n      <td>1928</td>\n    </tr>\n    <tr>\n      <th>3</th>\n      <td>0.995</td>\n      <td>['Francisco Canaro']</td>\n      <td>0.781</td>\n      <td>180760</td>\n      <td>0.1300</td>\n      <td>0</td>\n      <td>6M94FkXd15sOAOQYRnWPN8</td>\n      <td>0.887</td>\n      <td>1</td>\n      <td>0.1110</td>\n      <td>-14.734</td>\n      <td>0</td>\n      <td>Bebamos Juntos - Instrumental (Remasterizado)</td>\n      <td>0</td>\n      <td>1928-09-25</td>\n      <td>0.0926</td>\n      <td>108.003</td>\n      <td>0.7200</td>\n      <td>1928</td>\n    </tr>\n    <tr>\n      <th>4</th>\n      <td>0.990</td>\n      <td>['Frédéric Chopin', 'Vladimir Horowitz']</td>\n      <td>0.210</td>\n      <td>687733</td>\n      <td>0.2040</td>\n      <td>0</td>\n      <td>6N6tiFZ9vLTSOIxkj8qKrd</td>\n      <td>0.908</td>\n      <td>11</td>\n      <td>0.0980</td>\n      <td>-16.829</td>\n      <td>1</td>\n      <td>Polonaise-Fantaisie in A-Flat Major, Op. 61</td>\n      <td>1</td>\n      <td>1928</td>\n      <td>0.0424</td>\n      <td>62.149</td>\n      <td>0.0693</td>\n      <td>1928</td>\n    </tr>\n  </tbody>\n</table>\n</div>"
     },
     "metadata": {},
     "execution_count": 14
    }
   ],
   "source": [
    "import pandas as pd\n",
    "from sklearn import preprocessing\n",
    "from sklearn.impute import SimpleImputer\n",
    "from sklearn.preprocessing import LabelEncoder\n",
    "import pycountry_convert as pc\n",
    "import numpy as np\n",
    "\n",
    "\n",
    "%store -r Spo_Data\n",
    "\n",
    "Spo_Data.head()"
   ]
  },
  {
   "cell_type": "code",
   "execution_count": 4,
   "metadata": {},
   "outputs": [
    {
     "output_type": "execute_result",
     "data": {
      "text/plain": "acousticness        0\nartists             0\ndanceability        0\nduration_ms         0\nenergy              0\nexplicit            0\nid                  0\ninstrumentalness    0\nkey                 0\nliveness            0\nloudness            0\nmode                0\nname                0\npopularity          0\nrelease_date        0\nspeechiness         0\ntempo               0\nvalence             0\nyear                0\ndtype: int64"
     },
     "metadata": {},
     "execution_count": 4
    }
   ],
   "source": [
    "Spo_Data.isnull().sum()"
   ]
  },
  {
   "cell_type": "code",
   "execution_count": 23,
   "metadata": {},
   "outputs": [
    {
     "output_type": "execute_result",
     "data": {
      "text/plain": "        acousticness  artists  danceability  duration_ms  energy  explicit  \\\n0             0.9950     4880         0.708       158648  0.1950         0   \n1             0.9940    25163         0.379       282133  0.0135         0   \n2             0.6040    26351         0.749       104300  0.2200         0   \n3             0.9950     9738         0.781       180760  0.1300         0   \n4             0.9900    10245         0.210       687733  0.2040         0   \n...              ...      ...           ...          ...     ...       ...   \n169904        0.1730     8004         0.875       163800  0.4430         1   \n169905        0.0167    17559         0.719       167468  0.3850         0   \n169906        0.5380    16987         0.514       180700  0.5390         0   \n169907        0.0714     5031         0.646       167308  0.7610         0   \n169908        0.1090    13224         0.512       214787  0.4280         0   \n\n        instrumentalness  key  liveness  loudness  mode  popularity  \\\n0               0.563000   10    0.1510   -12.428     1           0   \n1               0.901000    8    0.0763   -28.454     1           0   \n2               0.000000    5    0.1190   -19.924     0           0   \n3               0.887000    1    0.1110   -14.734     0           0   \n4               0.908000   11    0.0980   -16.829     1           1   \n...                  ...  ...       ...       ...   ...         ...   \n169904          0.000032    1    0.0891    -7.461     1          75   \n169905          0.031300    8    0.1110   -10.907     1          64   \n169906          0.002330    7    0.1080    -9.332     1          70   \n169907          0.000000    1    0.2220    -2.557     1          70   \n169908          0.000000    0    0.1050    -7.387     1          65   \n\n       release_date  speechiness    tempo  valence  year  \n0              1928       0.0506  118.469   0.7790  1928  \n1              1928       0.0462   83.972   0.0767  1928  \n2              1928       0.9290  107.177   0.8800  1928  \n3        1928-09-25       0.0926  108.003   0.7200  1928  \n4              1928       0.0424   62.149   0.0693  1928  \n...             ...          ...      ...      ...   ...  \n169904   2020-05-15       0.1430  100.012   0.3060  2020  \n169905   2020-06-08       0.0403  128.000   0.2700  2020  \n169906   2020-05-29       0.1050  123.700   0.1530  2020  \n169907   2020-02-28       0.0385  129.916   0.4720  2020  \n169908   2020-03-27       0.0271   80.588   0.3660  2020  \n\n[169909 rows x 17 columns]",
      "text/html": "<div>\n<style scoped>\n    .dataframe tbody tr th:only-of-type {\n        vertical-align: middle;\n    }\n\n    .dataframe tbody tr th {\n        vertical-align: top;\n    }\n\n    .dataframe thead th {\n        text-align: right;\n    }\n</style>\n<table border=\"1\" class=\"dataframe\">\n  <thead>\n    <tr style=\"text-align: right;\">\n      <th></th>\n      <th>acousticness</th>\n      <th>artists</th>\n      <th>danceability</th>\n      <th>duration_ms</th>\n      <th>energy</th>\n      <th>explicit</th>\n      <th>instrumentalness</th>\n      <th>key</th>\n      <th>liveness</th>\n      <th>loudness</th>\n      <th>mode</th>\n      <th>popularity</th>\n      <th>release_date</th>\n      <th>speechiness</th>\n      <th>tempo</th>\n      <th>valence</th>\n      <th>year</th>\n    </tr>\n  </thead>\n  <tbody>\n    <tr>\n      <th>0</th>\n      <td>0.9950</td>\n      <td>4880</td>\n      <td>0.708</td>\n      <td>158648</td>\n      <td>0.1950</td>\n      <td>0</td>\n      <td>0.563000</td>\n      <td>10</td>\n      <td>0.1510</td>\n      <td>-12.428</td>\n      <td>1</td>\n      <td>0</td>\n      <td>1928</td>\n      <td>0.0506</td>\n      <td>118.469</td>\n      <td>0.7790</td>\n      <td>1928</td>\n    </tr>\n    <tr>\n      <th>1</th>\n      <td>0.9940</td>\n      <td>25163</td>\n      <td>0.379</td>\n      <td>282133</td>\n      <td>0.0135</td>\n      <td>0</td>\n      <td>0.901000</td>\n      <td>8</td>\n      <td>0.0763</td>\n      <td>-28.454</td>\n      <td>1</td>\n      <td>0</td>\n      <td>1928</td>\n      <td>0.0462</td>\n      <td>83.972</td>\n      <td>0.0767</td>\n      <td>1928</td>\n    </tr>\n    <tr>\n      <th>2</th>\n      <td>0.6040</td>\n      <td>26351</td>\n      <td>0.749</td>\n      <td>104300</td>\n      <td>0.2200</td>\n      <td>0</td>\n      <td>0.000000</td>\n      <td>5</td>\n      <td>0.1190</td>\n      <td>-19.924</td>\n      <td>0</td>\n      <td>0</td>\n      <td>1928</td>\n      <td>0.9290</td>\n      <td>107.177</td>\n      <td>0.8800</td>\n      <td>1928</td>\n    </tr>\n    <tr>\n      <th>3</th>\n      <td>0.9950</td>\n      <td>9738</td>\n      <td>0.781</td>\n      <td>180760</td>\n      <td>0.1300</td>\n      <td>0</td>\n      <td>0.887000</td>\n      <td>1</td>\n      <td>0.1110</td>\n      <td>-14.734</td>\n      <td>0</td>\n      <td>0</td>\n      <td>1928-09-25</td>\n      <td>0.0926</td>\n      <td>108.003</td>\n      <td>0.7200</td>\n      <td>1928</td>\n    </tr>\n    <tr>\n      <th>4</th>\n      <td>0.9900</td>\n      <td>10245</td>\n      <td>0.210</td>\n      <td>687733</td>\n      <td>0.2040</td>\n      <td>0</td>\n      <td>0.908000</td>\n      <td>11</td>\n      <td>0.0980</td>\n      <td>-16.829</td>\n      <td>1</td>\n      <td>1</td>\n      <td>1928</td>\n      <td>0.0424</td>\n      <td>62.149</td>\n      <td>0.0693</td>\n      <td>1928</td>\n    </tr>\n    <tr>\n      <th>...</th>\n      <td>...</td>\n      <td>...</td>\n      <td>...</td>\n      <td>...</td>\n      <td>...</td>\n      <td>...</td>\n      <td>...</td>\n      <td>...</td>\n      <td>...</td>\n      <td>...</td>\n      <td>...</td>\n      <td>...</td>\n      <td>...</td>\n      <td>...</td>\n      <td>...</td>\n      <td>...</td>\n      <td>...</td>\n    </tr>\n    <tr>\n      <th>169904</th>\n      <td>0.1730</td>\n      <td>8004</td>\n      <td>0.875</td>\n      <td>163800</td>\n      <td>0.4430</td>\n      <td>1</td>\n      <td>0.000032</td>\n      <td>1</td>\n      <td>0.0891</td>\n      <td>-7.461</td>\n      <td>1</td>\n      <td>75</td>\n      <td>2020-05-15</td>\n      <td>0.1430</td>\n      <td>100.012</td>\n      <td>0.3060</td>\n      <td>2020</td>\n    </tr>\n    <tr>\n      <th>169905</th>\n      <td>0.0167</td>\n      <td>17559</td>\n      <td>0.719</td>\n      <td>167468</td>\n      <td>0.3850</td>\n      <td>0</td>\n      <td>0.031300</td>\n      <td>8</td>\n      <td>0.1110</td>\n      <td>-10.907</td>\n      <td>1</td>\n      <td>64</td>\n      <td>2020-06-08</td>\n      <td>0.0403</td>\n      <td>128.000</td>\n      <td>0.2700</td>\n      <td>2020</td>\n    </tr>\n    <tr>\n      <th>169906</th>\n      <td>0.5380</td>\n      <td>16987</td>\n      <td>0.514</td>\n      <td>180700</td>\n      <td>0.5390</td>\n      <td>0</td>\n      <td>0.002330</td>\n      <td>7</td>\n      <td>0.1080</td>\n      <td>-9.332</td>\n      <td>1</td>\n      <td>70</td>\n      <td>2020-05-29</td>\n      <td>0.1050</td>\n      <td>123.700</td>\n      <td>0.1530</td>\n      <td>2020</td>\n    </tr>\n    <tr>\n      <th>169907</th>\n      <td>0.0714</td>\n      <td>5031</td>\n      <td>0.646</td>\n      <td>167308</td>\n      <td>0.7610</td>\n      <td>0</td>\n      <td>0.000000</td>\n      <td>1</td>\n      <td>0.2220</td>\n      <td>-2.557</td>\n      <td>1</td>\n      <td>70</td>\n      <td>2020-02-28</td>\n      <td>0.0385</td>\n      <td>129.916</td>\n      <td>0.4720</td>\n      <td>2020</td>\n    </tr>\n    <tr>\n      <th>169908</th>\n      <td>0.1090</td>\n      <td>13224</td>\n      <td>0.512</td>\n      <td>214787</td>\n      <td>0.4280</td>\n      <td>0</td>\n      <td>0.000000</td>\n      <td>0</td>\n      <td>0.1050</td>\n      <td>-7.387</td>\n      <td>1</td>\n      <td>65</td>\n      <td>2020-03-27</td>\n      <td>0.0271</td>\n      <td>80.588</td>\n      <td>0.3660</td>\n      <td>2020</td>\n    </tr>\n  </tbody>\n</table>\n<p>169909 rows × 17 columns</p>\n</div>"
     },
     "metadata": {},
     "execution_count": 23
    }
   ],
   "source": [
    "Spo_Clean_Data=Spo_Data.drop(['id','name'], axis=1)\n",
    "Spo_Clean_Data"
   ]
  },
  {
   "cell_type": "code",
   "execution_count": 24,
   "metadata": {},
   "outputs": [
    {
     "output_type": "execute_result",
     "data": {
      "text/plain": "        acousticness  artists  danceability  duration_ms  energy  explicit  \\\n0             0.9950     4880         0.708       158648  0.1950         0   \n1             0.9940    25163         0.379       282133  0.0135         0   \n2             0.6040    26351         0.749       104300  0.2200         0   \n3             0.9950     9738         0.781       180760  0.1300         0   \n4             0.9900    10245         0.210       687733  0.2040         0   \n...              ...      ...           ...          ...     ...       ...   \n169904        0.1730     8004         0.875       163800  0.4430         1   \n169905        0.0167    17559         0.719       167468  0.3850         0   \n169906        0.5380    16987         0.514       180700  0.5390         0   \n169907        0.0714     5031         0.646       167308  0.7610         0   \n169908        0.1090    13224         0.512       214787  0.4280         0   \n\n        instrumentalness  key  liveness  loudness  mode  popularity  \\\n0               0.563000   10    0.1510   -12.428     1           0   \n1               0.901000    8    0.0763   -28.454     1           0   \n2               0.000000    5    0.1190   -19.924     0           0   \n3               0.887000    1    0.1110   -14.734     0           0   \n4               0.908000   11    0.0980   -16.829     1           1   \n...                  ...  ...       ...       ...   ...         ...   \n169904          0.000032    1    0.0891    -7.461     1          75   \n169905          0.031300    8    0.1110   -10.907     1          64   \n169906          0.002330    7    0.1080    -9.332     1          70   \n169907          0.000000    1    0.2220    -2.557     1          70   \n169908          0.000000    0    0.1050    -7.387     1          65   \n\n       release_date  speechiness    tempo  valence  year  \n0              1928       0.0506  118.469   0.7790  1928  \n1              1928       0.0462   83.972   0.0767  1928  \n2              1928       0.9290  107.177   0.8800  1928  \n3        1928-09-25       0.0926  108.003   0.7200  1928  \n4              1928       0.0424   62.149   0.0693  1928  \n...             ...          ...      ...      ...   ...  \n169904   2020-05-15       0.1430  100.012   0.3060  2020  \n169905   2020-06-08       0.0403  128.000   0.2700  2020  \n169906   2020-05-29       0.1050  123.700   0.1530  2020  \n169907   2020-02-28       0.0385  129.916   0.4720  2020  \n169908   2020-03-27       0.0271   80.588   0.3660  2020  \n\n[169909 rows x 17 columns]",
      "text/html": "<div>\n<style scoped>\n    .dataframe tbody tr th:only-of-type {\n        vertical-align: middle;\n    }\n\n    .dataframe tbody tr th {\n        vertical-align: top;\n    }\n\n    .dataframe thead th {\n        text-align: right;\n    }\n</style>\n<table border=\"1\" class=\"dataframe\">\n  <thead>\n    <tr style=\"text-align: right;\">\n      <th></th>\n      <th>acousticness</th>\n      <th>artists</th>\n      <th>danceability</th>\n      <th>duration_ms</th>\n      <th>energy</th>\n      <th>explicit</th>\n      <th>instrumentalness</th>\n      <th>key</th>\n      <th>liveness</th>\n      <th>loudness</th>\n      <th>mode</th>\n      <th>popularity</th>\n      <th>release_date</th>\n      <th>speechiness</th>\n      <th>tempo</th>\n      <th>valence</th>\n      <th>year</th>\n    </tr>\n  </thead>\n  <tbody>\n    <tr>\n      <th>0</th>\n      <td>0.9950</td>\n      <td>4880</td>\n      <td>0.708</td>\n      <td>158648</td>\n      <td>0.1950</td>\n      <td>0</td>\n      <td>0.563000</td>\n      <td>10</td>\n      <td>0.1510</td>\n      <td>-12.428</td>\n      <td>1</td>\n      <td>0</td>\n      <td>1928</td>\n      <td>0.0506</td>\n      <td>118.469</td>\n      <td>0.7790</td>\n      <td>1928</td>\n    </tr>\n    <tr>\n      <th>1</th>\n      <td>0.9940</td>\n      <td>25163</td>\n      <td>0.379</td>\n      <td>282133</td>\n      <td>0.0135</td>\n      <td>0</td>\n      <td>0.901000</td>\n      <td>8</td>\n      <td>0.0763</td>\n      <td>-28.454</td>\n      <td>1</td>\n      <td>0</td>\n      <td>1928</td>\n      <td>0.0462</td>\n      <td>83.972</td>\n      <td>0.0767</td>\n      <td>1928</td>\n    </tr>\n    <tr>\n      <th>2</th>\n      <td>0.6040</td>\n      <td>26351</td>\n      <td>0.749</td>\n      <td>104300</td>\n      <td>0.2200</td>\n      <td>0</td>\n      <td>0.000000</td>\n      <td>5</td>\n      <td>0.1190</td>\n      <td>-19.924</td>\n      <td>0</td>\n      <td>0</td>\n      <td>1928</td>\n      <td>0.9290</td>\n      <td>107.177</td>\n      <td>0.8800</td>\n      <td>1928</td>\n    </tr>\n    <tr>\n      <th>3</th>\n      <td>0.9950</td>\n      <td>9738</td>\n      <td>0.781</td>\n      <td>180760</td>\n      <td>0.1300</td>\n      <td>0</td>\n      <td>0.887000</td>\n      <td>1</td>\n      <td>0.1110</td>\n      <td>-14.734</td>\n      <td>0</td>\n      <td>0</td>\n      <td>1928-09-25</td>\n      <td>0.0926</td>\n      <td>108.003</td>\n      <td>0.7200</td>\n      <td>1928</td>\n    </tr>\n    <tr>\n      <th>4</th>\n      <td>0.9900</td>\n      <td>10245</td>\n      <td>0.210</td>\n      <td>687733</td>\n      <td>0.2040</td>\n      <td>0</td>\n      <td>0.908000</td>\n      <td>11</td>\n      <td>0.0980</td>\n      <td>-16.829</td>\n      <td>1</td>\n      <td>1</td>\n      <td>1928</td>\n      <td>0.0424</td>\n      <td>62.149</td>\n      <td>0.0693</td>\n      <td>1928</td>\n    </tr>\n    <tr>\n      <th>...</th>\n      <td>...</td>\n      <td>...</td>\n      <td>...</td>\n      <td>...</td>\n      <td>...</td>\n      <td>...</td>\n      <td>...</td>\n      <td>...</td>\n      <td>...</td>\n      <td>...</td>\n      <td>...</td>\n      <td>...</td>\n      <td>...</td>\n      <td>...</td>\n      <td>...</td>\n      <td>...</td>\n      <td>...</td>\n    </tr>\n    <tr>\n      <th>169904</th>\n      <td>0.1730</td>\n      <td>8004</td>\n      <td>0.875</td>\n      <td>163800</td>\n      <td>0.4430</td>\n      <td>1</td>\n      <td>0.000032</td>\n      <td>1</td>\n      <td>0.0891</td>\n      <td>-7.461</td>\n      <td>1</td>\n      <td>75</td>\n      <td>2020-05-15</td>\n      <td>0.1430</td>\n      <td>100.012</td>\n      <td>0.3060</td>\n      <td>2020</td>\n    </tr>\n    <tr>\n      <th>169905</th>\n      <td>0.0167</td>\n      <td>17559</td>\n      <td>0.719</td>\n      <td>167468</td>\n      <td>0.3850</td>\n      <td>0</td>\n      <td>0.031300</td>\n      <td>8</td>\n      <td>0.1110</td>\n      <td>-10.907</td>\n      <td>1</td>\n      <td>64</td>\n      <td>2020-06-08</td>\n      <td>0.0403</td>\n      <td>128.000</td>\n      <td>0.2700</td>\n      <td>2020</td>\n    </tr>\n    <tr>\n      <th>169906</th>\n      <td>0.5380</td>\n      <td>16987</td>\n      <td>0.514</td>\n      <td>180700</td>\n      <td>0.5390</td>\n      <td>0</td>\n      <td>0.002330</td>\n      <td>7</td>\n      <td>0.1080</td>\n      <td>-9.332</td>\n      <td>1</td>\n      <td>70</td>\n      <td>2020-05-29</td>\n      <td>0.1050</td>\n      <td>123.700</td>\n      <td>0.1530</td>\n      <td>2020</td>\n    </tr>\n    <tr>\n      <th>169907</th>\n      <td>0.0714</td>\n      <td>5031</td>\n      <td>0.646</td>\n      <td>167308</td>\n      <td>0.7610</td>\n      <td>0</td>\n      <td>0.000000</td>\n      <td>1</td>\n      <td>0.2220</td>\n      <td>-2.557</td>\n      <td>1</td>\n      <td>70</td>\n      <td>2020-02-28</td>\n      <td>0.0385</td>\n      <td>129.916</td>\n      <td>0.4720</td>\n      <td>2020</td>\n    </tr>\n    <tr>\n      <th>169908</th>\n      <td>0.1090</td>\n      <td>13224</td>\n      <td>0.512</td>\n      <td>214787</td>\n      <td>0.4280</td>\n      <td>0</td>\n      <td>0.000000</td>\n      <td>0</td>\n      <td>0.1050</td>\n      <td>-7.387</td>\n      <td>1</td>\n      <td>65</td>\n      <td>2020-03-27</td>\n      <td>0.0271</td>\n      <td>80.588</td>\n      <td>0.3660</td>\n      <td>2020</td>\n    </tr>\n  </tbody>\n</table>\n<p>169909 rows × 17 columns</p>\n</div>"
     },
     "metadata": {},
     "execution_count": 24
    }
   ],
   "source": [
    "labelencoder = LabelEncoder()\n",
    "Spo_Clean_Data['artists'] = labelencoder.fit_transform(Spo_Data['artists'])\n",
    "Spo_Clean_Data\n"
   ]
  },
  {
   "cell_type": "code",
   "execution_count": 25,
   "metadata": {},
   "outputs": [
    {
     "output_type": "execute_result",
     "data": {
      "text/plain": "        acousticness  artists  danceability  duration_ms  energy  explicit  \\\n0             0.9950     4880         0.708       158648  0.1950         0   \n1             0.9940    25163         0.379       282133  0.0135         0   \n2             0.6040    26351         0.749       104300  0.2200         0   \n3             0.9950     9738         0.781       180760  0.1300         0   \n4             0.9900    10245         0.210       687733  0.2040         0   \n...              ...      ...           ...          ...     ...       ...   \n169904        0.1730     8004         0.875       163800  0.4430         1   \n169905        0.0167    17559         0.719       167468  0.3850         0   \n169906        0.5380    16987         0.514       180700  0.5390         0   \n169907        0.0714     5031         0.646       167308  0.7610         0   \n169908        0.1090    13224         0.512       214787  0.4280         0   \n\n        instrumentalness  key  liveness  loudness  mode  popularity  \\\n0               0.563000   10    0.1510   -12.428     1           0   \n1               0.901000    8    0.0763   -28.454     1           0   \n2               0.000000    5    0.1190   -19.924     0           0   \n3               0.887000    1    0.1110   -14.734     0           0   \n4               0.908000   11    0.0980   -16.829     1           1   \n...                  ...  ...       ...       ...   ...         ...   \n169904          0.000032    1    0.0891    -7.461     1          75   \n169905          0.031300    8    0.1110   -10.907     1          64   \n169906          0.002330    7    0.1080    -9.332     1          70   \n169907          0.000000    1    0.2220    -2.557     1          70   \n169908          0.000000    0    0.1050    -7.387     1          65   \n\n       release_date  speechiness    tempo  valence  year  \n0              1928       0.0506  118.469   0.7790  1928  \n1              1928       0.0462   83.972   0.0767  1928  \n2              1928       0.9290  107.177   0.8800  1928  \n3        1928-09-25       0.0926  108.003   0.7200  1928  \n4              1928       0.0424   62.149   0.0693  1928  \n...             ...          ...      ...      ...   ...  \n169904   2020-05-15       0.1430  100.012   0.3060  2020  \n169905   2020-06-08       0.0403  128.000   0.2700  2020  \n169906   2020-05-29       0.1050  123.700   0.1530  2020  \n169907   2020-02-28       0.0385  129.916   0.4720  2020  \n169908   2020-03-27       0.0271   80.588   0.3660  2020  \n\n[169909 rows x 17 columns]",
      "text/html": "<div>\n<style scoped>\n    .dataframe tbody tr th:only-of-type {\n        vertical-align: middle;\n    }\n\n    .dataframe tbody tr th {\n        vertical-align: top;\n    }\n\n    .dataframe thead th {\n        text-align: right;\n    }\n</style>\n<table border=\"1\" class=\"dataframe\">\n  <thead>\n    <tr style=\"text-align: right;\">\n      <th></th>\n      <th>acousticness</th>\n      <th>artists</th>\n      <th>danceability</th>\n      <th>duration_ms</th>\n      <th>energy</th>\n      <th>explicit</th>\n      <th>instrumentalness</th>\n      <th>key</th>\n      <th>liveness</th>\n      <th>loudness</th>\n      <th>mode</th>\n      <th>popularity</th>\n      <th>release_date</th>\n      <th>speechiness</th>\n      <th>tempo</th>\n      <th>valence</th>\n      <th>year</th>\n    </tr>\n  </thead>\n  <tbody>\n    <tr>\n      <th>0</th>\n      <td>0.9950</td>\n      <td>4880</td>\n      <td>0.708</td>\n      <td>158648</td>\n      <td>0.1950</td>\n      <td>0</td>\n      <td>0.563000</td>\n      <td>10</td>\n      <td>0.1510</td>\n      <td>-12.428</td>\n      <td>1</td>\n      <td>0</td>\n      <td>1928</td>\n      <td>0.0506</td>\n      <td>118.469</td>\n      <td>0.7790</td>\n      <td>1928</td>\n    </tr>\n    <tr>\n      <th>1</th>\n      <td>0.9940</td>\n      <td>25163</td>\n      <td>0.379</td>\n      <td>282133</td>\n      <td>0.0135</td>\n      <td>0</td>\n      <td>0.901000</td>\n      <td>8</td>\n      <td>0.0763</td>\n      <td>-28.454</td>\n      <td>1</td>\n      <td>0</td>\n      <td>1928</td>\n      <td>0.0462</td>\n      <td>83.972</td>\n      <td>0.0767</td>\n      <td>1928</td>\n    </tr>\n    <tr>\n      <th>2</th>\n      <td>0.6040</td>\n      <td>26351</td>\n      <td>0.749</td>\n      <td>104300</td>\n      <td>0.2200</td>\n      <td>0</td>\n      <td>0.000000</td>\n      <td>5</td>\n      <td>0.1190</td>\n      <td>-19.924</td>\n      <td>0</td>\n      <td>0</td>\n      <td>1928</td>\n      <td>0.9290</td>\n      <td>107.177</td>\n      <td>0.8800</td>\n      <td>1928</td>\n    </tr>\n    <tr>\n      <th>3</th>\n      <td>0.9950</td>\n      <td>9738</td>\n      <td>0.781</td>\n      <td>180760</td>\n      <td>0.1300</td>\n      <td>0</td>\n      <td>0.887000</td>\n      <td>1</td>\n      <td>0.1110</td>\n      <td>-14.734</td>\n      <td>0</td>\n      <td>0</td>\n      <td>1928-09-25</td>\n      <td>0.0926</td>\n      <td>108.003</td>\n      <td>0.7200</td>\n      <td>1928</td>\n    </tr>\n    <tr>\n      <th>4</th>\n      <td>0.9900</td>\n      <td>10245</td>\n      <td>0.210</td>\n      <td>687733</td>\n      <td>0.2040</td>\n      <td>0</td>\n      <td>0.908000</td>\n      <td>11</td>\n      <td>0.0980</td>\n      <td>-16.829</td>\n      <td>1</td>\n      <td>1</td>\n      <td>1928</td>\n      <td>0.0424</td>\n      <td>62.149</td>\n      <td>0.0693</td>\n      <td>1928</td>\n    </tr>\n    <tr>\n      <th>...</th>\n      <td>...</td>\n      <td>...</td>\n      <td>...</td>\n      <td>...</td>\n      <td>...</td>\n      <td>...</td>\n      <td>...</td>\n      <td>...</td>\n      <td>...</td>\n      <td>...</td>\n      <td>...</td>\n      <td>...</td>\n      <td>...</td>\n      <td>...</td>\n      <td>...</td>\n      <td>...</td>\n      <td>...</td>\n    </tr>\n    <tr>\n      <th>169904</th>\n      <td>0.1730</td>\n      <td>8004</td>\n      <td>0.875</td>\n      <td>163800</td>\n      <td>0.4430</td>\n      <td>1</td>\n      <td>0.000032</td>\n      <td>1</td>\n      <td>0.0891</td>\n      <td>-7.461</td>\n      <td>1</td>\n      <td>75</td>\n      <td>2020-05-15</td>\n      <td>0.1430</td>\n      <td>100.012</td>\n      <td>0.3060</td>\n      <td>2020</td>\n    </tr>\n    <tr>\n      <th>169905</th>\n      <td>0.0167</td>\n      <td>17559</td>\n      <td>0.719</td>\n      <td>167468</td>\n      <td>0.3850</td>\n      <td>0</td>\n      <td>0.031300</td>\n      <td>8</td>\n      <td>0.1110</td>\n      <td>-10.907</td>\n      <td>1</td>\n      <td>64</td>\n      <td>2020-06-08</td>\n      <td>0.0403</td>\n      <td>128.000</td>\n      <td>0.2700</td>\n      <td>2020</td>\n    </tr>\n    <tr>\n      <th>169906</th>\n      <td>0.5380</td>\n      <td>16987</td>\n      <td>0.514</td>\n      <td>180700</td>\n      <td>0.5390</td>\n      <td>0</td>\n      <td>0.002330</td>\n      <td>7</td>\n      <td>0.1080</td>\n      <td>-9.332</td>\n      <td>1</td>\n      <td>70</td>\n      <td>2020-05-29</td>\n      <td>0.1050</td>\n      <td>123.700</td>\n      <td>0.1530</td>\n      <td>2020</td>\n    </tr>\n    <tr>\n      <th>169907</th>\n      <td>0.0714</td>\n      <td>5031</td>\n      <td>0.646</td>\n      <td>167308</td>\n      <td>0.7610</td>\n      <td>0</td>\n      <td>0.000000</td>\n      <td>1</td>\n      <td>0.2220</td>\n      <td>-2.557</td>\n      <td>1</td>\n      <td>70</td>\n      <td>2020-02-28</td>\n      <td>0.0385</td>\n      <td>129.916</td>\n      <td>0.4720</td>\n      <td>2020</td>\n    </tr>\n    <tr>\n      <th>169908</th>\n      <td>0.1090</td>\n      <td>13224</td>\n      <td>0.512</td>\n      <td>214787</td>\n      <td>0.4280</td>\n      <td>0</td>\n      <td>0.000000</td>\n      <td>0</td>\n      <td>0.1050</td>\n      <td>-7.387</td>\n      <td>1</td>\n      <td>65</td>\n      <td>2020-03-27</td>\n      <td>0.0271</td>\n      <td>80.588</td>\n      <td>0.3660</td>\n      <td>2020</td>\n    </tr>\n  </tbody>\n</table>\n<p>169909 rows × 17 columns</p>\n</div>"
     },
     "metadata": {},
     "execution_count": 25
    }
   ],
   "source": [
    "Spo_Clean_Data"
   ]
  },
  {
   "cell_type": "code",
   "execution_count": 26,
   "metadata": {
    "tags": []
   },
   "outputs": [
    {
     "output_type": "stream",
     "name": "stdout",
     "text": "Stored 'Spo_Clean_Data' (DataFrame)\n"
    }
   ],
   "source": [
    "\n",
    "%store Spo_Clean_Data"
   ]
  },
  {
   "cell_type": "code",
   "execution_count": 56,
   "metadata": {
    "tags": []
   },
   "outputs": [
    {
     "output_type": "execute_result",
     "data": {
      "text/plain": "array([[0.00237689, 0.00168476, 0.00215033, ..., 0.00248184, 0.00260655,\n        0.00161687]])"
     },
     "metadata": {},
     "execution_count": 56
    }
   ],
   "source": [
    "\n",
    "T_array = np.array(Spo_Clean_Data['tempo'])\n",
    "normalized_T = preprocessing.normalize([T_array])\n",
    "normalized_T"
   ]
  },
  {
   "cell_type": "code",
   "execution_count": 57,
   "metadata": {},
   "outputs": [
    {
     "output_type": "execute_result",
     "data": {
      "text/plain": "array([[-0.00237327, -0.00543362, -0.00380472, ..., -0.00178205,\n        -0.00048829, -0.00141063]])"
     },
     "metadata": {},
     "execution_count": 57
    }
   ],
   "source": [
    "L_array = np.array(Spo_Clean_Data['loudness'])\n",
    "normalized_L = preprocessing.normalize([L_array])\n",
    "normalized_L"
   ]
  },
  {
   "cell_type": "code",
   "execution_count": 58,
   "metadata": {},
   "outputs": [
    {
     "output_type": "execute_result",
     "data": {
      "text/plain": "array([[0.00147305, 0.00261962, 0.00096843, ..., 0.00167781, 0.00155346,\n        0.00199431]])"
     },
     "metadata": {},
     "execution_count": 58
    }
   ],
   "source": [
    "D_array = np.array(Spo_Clean_Data['duration_ms'])\n",
    "normalized_D = preprocessing.normalize([D_array])\n",
    "normalized_D"
   ]
  },
  {
   "cell_type": "code",
   "execution_count": 69,
   "metadata": {},
   "outputs": [
    {
     "output_type": "error",
     "ename": "AttributeError",
     "evalue": "module 'numpy' has no attribute 'Spo_Clean_Data'",
     "traceback": [
      "\u001b[1;31m---------------------------------------------------------------------------\u001b[0m",
      "\u001b[1;31mAttributeError\u001b[0m                            Traceback (most recent call last)",
      "\u001b[1;32m<ipython-input-69-ec42aadab9c0>\u001b[0m in \u001b[0;36m<module>\u001b[1;34m\u001b[0m\n\u001b[0;32m      3\u001b[0m \u001b[1;33m\u001b[0m\u001b[0m\n\u001b[0;32m      4\u001b[0m \u001b[1;31m# 4 samples/observations and 2 variables/features\u001b[0m\u001b[1;33m\u001b[0m\u001b[1;33m\u001b[0m\u001b[1;33m\u001b[0m\u001b[0m\n\u001b[1;32m----> 5\u001b[1;33m \u001b[0mX\u001b[0m \u001b[1;33m=\u001b[0m \u001b[0mnp\u001b[0m\u001b[1;33m.\u001b[0m\u001b[0mSpo_Clean_Data\u001b[0m\u001b[1;33m[\u001b[0m\u001b[1;34m'tempo'\u001b[0m\u001b[1;33m]\u001b[0m\u001b[1;33m\u001b[0m\u001b[1;33m\u001b[0m\u001b[0m\n\u001b[0m\u001b[0;32m      6\u001b[0m \u001b[1;31m# the scaler object (model)\u001b[0m\u001b[1;33m\u001b[0m\u001b[1;33m\u001b[0m\u001b[1;33m\u001b[0m\u001b[0m\n\u001b[0;32m      7\u001b[0m \u001b[0mscaler\u001b[0m \u001b[1;33m=\u001b[0m \u001b[0mStandardScaler\u001b[0m\u001b[1;33m(\u001b[0m\u001b[1;33m)\u001b[0m\u001b[1;33m\u001b[0m\u001b[1;33m\u001b[0m\u001b[0m\n",
      "\u001b[1;32m~\\AppData\\Local\\Programs\\Python\\Python38-32\\lib\\site-packages\\numpy\\__init__.py\u001b[0m in \u001b[0;36m__getattr__\u001b[1;34m(attr)\u001b[0m\n\u001b[0;32m    217\u001b[0m                 \u001b[1;32mreturn\u001b[0m \u001b[0mTester\u001b[0m\u001b[1;33m\u001b[0m\u001b[1;33m\u001b[0m\u001b[0m\n\u001b[0;32m    218\u001b[0m             \u001b[1;32melse\u001b[0m\u001b[1;33m:\u001b[0m\u001b[1;33m\u001b[0m\u001b[1;33m\u001b[0m\u001b[0m\n\u001b[1;32m--> 219\u001b[1;33m                 raise AttributeError(\"module {!r} has no attribute \"\n\u001b[0m\u001b[0;32m    220\u001b[0m                                      \"{!r}\".format(__name__, attr))\n\u001b[0;32m    221\u001b[0m \u001b[1;33m\u001b[0m\u001b[0m\n",
      "\u001b[1;31mAttributeError\u001b[0m: module 'numpy' has no attribute 'Spo_Clean_Data'"
     ]
    }
   ],
   "source": [
    "from sklearn.preprocessing import StandardScaler\n",
    "import numpy as np\n",
    "\n",
    "# 4 samples/observations and 2 variables/features\n",
    "X = np.Spo_Clean_Data['tempo']\n",
    "# the scaler object (model)\n",
    "scaler = StandardScaler()\n",
    "# fit and transform the data\n",
    "scaled_data = scaler.fit_transform(X) "
   ]
  },
  {
   "cell_type": "code",
   "execution_count": null,
   "metadata": {},
   "outputs": [],
   "source": []
  }
 ]
}