{
 "metadata": {
  "language_info": {
   "codemirror_mode": {
    "name": "ipython",
    "version": 3
   },
   "file_extension": ".py",
   "mimetype": "text/x-python",
   "name": "python",
   "nbconvert_exporter": "python",
   "pygments_lexer": "ipython3",
   "version": "3.8.2-final"
  },
  "orig_nbformat": 2,
  "kernelspec": {
   "name": "Python 3.8.2 32-bit",
   "display_name": "Python 3.8.2 32-bit",
   "metadata": {
    "interpreter": {
     "hash": "f9302fbc784ef2fba3c9d813c0c75237d03734d31e8ce593ac5b8bee5049d773"
    }
   }
  }
 },
 "nbformat": 4,
 "nbformat_minor": 2,
 "cells": [
  {
   "cell_type": "code",
   "execution_count": 2,
   "metadata": {},
   "outputs": [
    {
     "output_type": "execute_result",
     "data": {
      "text/plain": "   acousticness  artists  danceability  duration_ms  energy  explicit  \\\n0         0.995     4880         0.708     0.028442  0.1950         0   \n1         0.994    25163         0.379     0.051316  0.0135         0   \n2         0.604    26351         0.749     0.018374  0.2200         0   \n3         0.995     9738         0.781     0.032538  0.1300         0   \n4         0.990    10245         0.210     0.126450  0.2040         0   \n\n   instrumentalness  key  liveness  loudness  mode  popularity  speechiness  \\\n0             0.563   10    0.1510  0.745000     1        0.00       0.0506   \n1             0.901    8    0.0763  0.494026     1        0.00       0.0462   \n2             0.000    5    0.1190  0.627609     0        0.00       0.9290   \n3             0.887    1    0.1110  0.708887     0        0.00       0.0926   \n4             0.908   11    0.0980  0.676079     1        0.01       0.0424   \n\n      tempo  valence  year  Month  Day  \n0  0.485348   0.7790  1928      1    1  \n1  0.344019   0.0767  1928      1    1  \n2  0.439086   0.8800  1928      1    1  \n3  0.442470   0.7200  1928      9   25  \n4  0.254614   0.0693  1928      1    1  ",
      "text/html": "<div>\n<style scoped>\n    .dataframe tbody tr th:only-of-type {\n        vertical-align: middle;\n    }\n\n    .dataframe tbody tr th {\n        vertical-align: top;\n    }\n\n    .dataframe thead th {\n        text-align: right;\n    }\n</style>\n<table border=\"1\" class=\"dataframe\">\n  <thead>\n    <tr style=\"text-align: right;\">\n      <th></th>\n      <th>acousticness</th>\n      <th>artists</th>\n      <th>danceability</th>\n      <th>duration_ms</th>\n      <th>energy</th>\n      <th>explicit</th>\n      <th>instrumentalness</th>\n      <th>key</th>\n      <th>liveness</th>\n      <th>loudness</th>\n      <th>mode</th>\n      <th>popularity</th>\n      <th>speechiness</th>\n      <th>tempo</th>\n      <th>valence</th>\n      <th>year</th>\n      <th>Month</th>\n      <th>Day</th>\n    </tr>\n  </thead>\n  <tbody>\n    <tr>\n      <th>0</th>\n      <td>0.995</td>\n      <td>4880</td>\n      <td>0.708</td>\n      <td>0.028442</td>\n      <td>0.1950</td>\n      <td>0</td>\n      <td>0.563</td>\n      <td>10</td>\n      <td>0.1510</td>\n      <td>0.745000</td>\n      <td>1</td>\n      <td>0.00</td>\n      <td>0.0506</td>\n      <td>0.485348</td>\n      <td>0.7790</td>\n      <td>1928</td>\n      <td>1</td>\n      <td>1</td>\n    </tr>\n    <tr>\n      <th>1</th>\n      <td>0.994</td>\n      <td>25163</td>\n      <td>0.379</td>\n      <td>0.051316</td>\n      <td>0.0135</td>\n      <td>0</td>\n      <td>0.901</td>\n      <td>8</td>\n      <td>0.0763</td>\n      <td>0.494026</td>\n      <td>1</td>\n      <td>0.00</td>\n      <td>0.0462</td>\n      <td>0.344019</td>\n      <td>0.0767</td>\n      <td>1928</td>\n      <td>1</td>\n      <td>1</td>\n    </tr>\n    <tr>\n      <th>2</th>\n      <td>0.604</td>\n      <td>26351</td>\n      <td>0.749</td>\n      <td>0.018374</td>\n      <td>0.2200</td>\n      <td>0</td>\n      <td>0.000</td>\n      <td>5</td>\n      <td>0.1190</td>\n      <td>0.627609</td>\n      <td>0</td>\n      <td>0.00</td>\n      <td>0.9290</td>\n      <td>0.439086</td>\n      <td>0.8800</td>\n      <td>1928</td>\n      <td>1</td>\n      <td>1</td>\n    </tr>\n    <tr>\n      <th>3</th>\n      <td>0.995</td>\n      <td>9738</td>\n      <td>0.781</td>\n      <td>0.032538</td>\n      <td>0.1300</td>\n      <td>0</td>\n      <td>0.887</td>\n      <td>1</td>\n      <td>0.1110</td>\n      <td>0.708887</td>\n      <td>0</td>\n      <td>0.00</td>\n      <td>0.0926</td>\n      <td>0.442470</td>\n      <td>0.7200</td>\n      <td>1928</td>\n      <td>9</td>\n      <td>25</td>\n    </tr>\n    <tr>\n      <th>4</th>\n      <td>0.990</td>\n      <td>10245</td>\n      <td>0.210</td>\n      <td>0.126450</td>\n      <td>0.2040</td>\n      <td>0</td>\n      <td>0.908</td>\n      <td>11</td>\n      <td>0.0980</td>\n      <td>0.676079</td>\n      <td>1</td>\n      <td>0.01</td>\n      <td>0.0424</td>\n      <td>0.254614</td>\n      <td>0.0693</td>\n      <td>1928</td>\n      <td>1</td>\n      <td>1</td>\n    </tr>\n  </tbody>\n</table>\n</div>"
     },
     "metadata": {},
     "execution_count": 2
    }
   ],
   "source": [
    "import numpy as np\n",
    "import pandas as pd\n",
    "import matplotlib.pyplot as plt\n",
    "import seaborn as sns\n",
    "import matplotlib as mpl\n",
    "\n",
    "\n",
    "\n",
    "%store -r Spo_Clean_Data\n",
    "\n",
    "%store -r Spo_Data\n",
    "\n",
    "Spo_Clean_Data.head()"
   ]
  },
  {
   "cell_type": "code",
   "execution_count": 3,
   "metadata": {},
   "outputs": [],
   "source": [
    "# Change categorical data to number 0-2\n",
    "df = Spo_Clean_Data\n",
    "\n",
    "# Change dataframe to numpy matrix\n",
    "data = df.values[:, 0:4]\n",
    "category = df.values[:, 4]"
   ]
  },
  {
   "cell_type": "code",
   "execution_count": 4,
   "metadata": {},
   "outputs": [],
   "source": [
    "# Number of clusters\n",
    "k = 3\n",
    "# Number of training data\n",
    "n = data.shape[0]\n",
    "# Number of features in the data\n",
    "c = data.shape[1]\n",
    "\n",
    "# Generate random centers, here we use sigma and mean to ensure it represent the whole data\n",
    "mean = np.mean(data, axis = 0)\n",
    "std = np.std(data, axis = 0)\n",
    "centers = np.random.randn(k,c)*std + mean\n",
    "\n",
    "# Plot the data and the centers generated as random\n",
    "colors=['orange', 'blue', 'green']\n",
    "for i in range(n):\n",
    "    plt.scatter(data[i, 0], data[i,1], s=7, color = colors[int(category[i])])\n",
    "plt.scatter(centers[:,0], centers[:,1], marker='*', c='g', s=150)"
   ]
  },
  {
   "cell_type": "code",
   "execution_count": null,
   "metadata": {},
   "outputs": [],
   "source": []
  }
 ]
}