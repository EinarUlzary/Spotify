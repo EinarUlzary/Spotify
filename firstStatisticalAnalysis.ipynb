{
 "metadata": {
  "language_info": {
   "codemirror_mode": {
    "name": "ipython",
    "version": 3
   },
   "file_extension": ".py",
   "mimetype": "text/x-python",
   "name": "python",
   "nbconvert_exporter": "python",
   "pygments_lexer": "ipython3",
   "version": "3.8.2-final"
  },
  "orig_nbformat": 2,
  "kernelspec": {
   "name": "python_defaultSpec_1601105287048",
   "display_name": "Python 3.8.2 32-bit"
  }
 },
 "nbformat": 4,
 "nbformat_minor": 2,
 "cells": [
  {
   "cell_type": "code",
   "execution_count": 8,
   "metadata": {},
   "outputs": [
    {
     "output_type": "execute_result",
     "data": {
      "text/plain": "   acousticness  artists  danceability  duration_ms  energy  explicit  \\\n0         0.995     4880         0.708       158648  0.1950         0   \n1         0.994    25163         0.379       282133  0.0135         0   \n2         0.604    26351         0.749       104300  0.2200         0   \n3         0.995     9738         0.781       180760  0.1300         0   \n4         0.990    10245         0.210       687733  0.2040         0   \n\n   instrumentalness  key  liveness  loudness  mode  popularity release_date  \\\n0             0.563   10    0.1510   -12.428     1           0         1928   \n1             0.901    8    0.0763   -28.454     1           0         1928   \n2             0.000    5    0.1190   -19.924     0           0         1928   \n3             0.887    1    0.1110   -14.734     0           0   1928-09-25   \n4             0.908   11    0.0980   -16.829     1           1         1928   \n\n   speechiness    tempo  valence  year  \n0       0.0506  118.469   0.7790  1928  \n1       0.0462   83.972   0.0767  1928  \n2       0.9290  107.177   0.8800  1928  \n3       0.0926  108.003   0.7200  1928  \n4       0.0424   62.149   0.0693  1928  ",
      "text/html": "<div>\n<style scoped>\n    .dataframe tbody tr th:only-of-type {\n        vertical-align: middle;\n    }\n\n    .dataframe tbody tr th {\n        vertical-align: top;\n    }\n\n    .dataframe thead th {\n        text-align: right;\n    }\n</style>\n<table border=\"1\" class=\"dataframe\">\n  <thead>\n    <tr style=\"text-align: right;\">\n      <th></th>\n      <th>acousticness</th>\n      <th>artists</th>\n      <th>danceability</th>\n      <th>duration_ms</th>\n      <th>energy</th>\n      <th>explicit</th>\n      <th>instrumentalness</th>\n      <th>key</th>\n      <th>liveness</th>\n      <th>loudness</th>\n      <th>mode</th>\n      <th>popularity</th>\n      <th>release_date</th>\n      <th>speechiness</th>\n      <th>tempo</th>\n      <th>valence</th>\n      <th>year</th>\n    </tr>\n  </thead>\n  <tbody>\n    <tr>\n      <th>0</th>\n      <td>0.995</td>\n      <td>4880</td>\n      <td>0.708</td>\n      <td>158648</td>\n      <td>0.1950</td>\n      <td>0</td>\n      <td>0.563</td>\n      <td>10</td>\n      <td>0.1510</td>\n      <td>-12.428</td>\n      <td>1</td>\n      <td>0</td>\n      <td>1928</td>\n      <td>0.0506</td>\n      <td>118.469</td>\n      <td>0.7790</td>\n      <td>1928</td>\n    </tr>\n    <tr>\n      <th>1</th>\n      <td>0.994</td>\n      <td>25163</td>\n      <td>0.379</td>\n      <td>282133</td>\n      <td>0.0135</td>\n      <td>0</td>\n      <td>0.901</td>\n      <td>8</td>\n      <td>0.0763</td>\n      <td>-28.454</td>\n      <td>1</td>\n      <td>0</td>\n      <td>1928</td>\n      <td>0.0462</td>\n      <td>83.972</td>\n      <td>0.0767</td>\n      <td>1928</td>\n    </tr>\n    <tr>\n      <th>2</th>\n      <td>0.604</td>\n      <td>26351</td>\n      <td>0.749</td>\n      <td>104300</td>\n      <td>0.2200</td>\n      <td>0</td>\n      <td>0.000</td>\n      <td>5</td>\n      <td>0.1190</td>\n      <td>-19.924</td>\n      <td>0</td>\n      <td>0</td>\n      <td>1928</td>\n      <td>0.9290</td>\n      <td>107.177</td>\n      <td>0.8800</td>\n      <td>1928</td>\n    </tr>\n    <tr>\n      <th>3</th>\n      <td>0.995</td>\n      <td>9738</td>\n      <td>0.781</td>\n      <td>180760</td>\n      <td>0.1300</td>\n      <td>0</td>\n      <td>0.887</td>\n      <td>1</td>\n      <td>0.1110</td>\n      <td>-14.734</td>\n      <td>0</td>\n      <td>0</td>\n      <td>1928-09-25</td>\n      <td>0.0926</td>\n      <td>108.003</td>\n      <td>0.7200</td>\n      <td>1928</td>\n    </tr>\n    <tr>\n      <th>4</th>\n      <td>0.990</td>\n      <td>10245</td>\n      <td>0.210</td>\n      <td>687733</td>\n      <td>0.2040</td>\n      <td>0</td>\n      <td>0.908</td>\n      <td>11</td>\n      <td>0.0980</td>\n      <td>-16.829</td>\n      <td>1</td>\n      <td>1</td>\n      <td>1928</td>\n      <td>0.0424</td>\n      <td>62.149</td>\n      <td>0.0693</td>\n      <td>1928</td>\n    </tr>\n  </tbody>\n</table>\n</div>"
     },
     "metadata": {},
     "execution_count": 8
    }
   ],
   "source": [
    "import numpy as np\n",
    "import pandas as pd\n",
    "import matplotlib.pyplot as plt\n",
    "import seaborn as sns\n",
    "\n",
    "\n",
    "%store -r Spo_Clean_Data\n",
    "\n",
    "Spo_Clean_Data.head()"
   ]
  },
  {
   "cell_type": "code",
   "execution_count": 12,
   "metadata": {},
   "outputs": [],
   "source": [
    " rng = np.arange(50)\n",
    " rnd = np.random.randint(0, 10, size=(3, rng.size))>>> yrs = 1950 + rng\n",
    "\n",
    ">>> fig, ax = plt.subplots(figsize=(5, 3))\n",
    ">>> ax.stackplot(yrs, rng + rnd, labels=['Eastasia', 'Eurasia', 'Oceania'])\n",
    ">>> ax.set_title('Combined debt growth over time')\n",
    ">>> ax.legend(loc='upper left')\n",
    ">>> ax.set_ylabel('Total debt')\n",
    ">>> ax.set_xlim(xmin=yrs[0], xmax=yrs[-1])\n",
    ">>> fig.tight_layout()\n"
   ]
  },
  {
   "cell_type": "code",
   "execution_count": null,
   "metadata": {},
   "outputs": [],
   "source": []
  }
 ]
}