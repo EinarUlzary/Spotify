{
 "metadata": {
  "language_info": {
   "codemirror_mode": {
    "name": "ipython",
    "version": 3
   },
   "file_extension": ".py",
   "mimetype": "text/x-python",
   "name": "python",
   "nbconvert_exporter": "python",
   "pygments_lexer": "ipython3",
   "version": "3.8.2-final"
  },
  "orig_nbformat": 2,
  "kernelspec": {
   "name": "Python 3.8.2 32-bit",
   "display_name": "Python 3.8.2 32-bit",
   "metadata": {
    "interpreter": {
     "hash": "f9302fbc784ef2fba3c9d813c0c75237d03734d31e8ce593ac5b8bee5049d773"
    }
   }
  }
 },
 "nbformat": 4,
 "nbformat_minor": 2,
 "cells": [
  {
   "cell_type": "code",
   "execution_count": 28,
   "metadata": {},
   "outputs": [
    {
     "output_type": "execute_result",
     "data": {
      "text/plain": "   acousticness  artists  danceability  duration_ms  energy  explicit  \\\n0         0.995     4880         0.708     0.028442  0.1950         0   \n1         0.994    25163         0.379     0.051316  0.0135         0   \n2         0.604    26351         0.749     0.018374  0.2200         0   \n3         0.995     9738         0.781     0.032538  0.1300         0   \n4         0.990    10245         0.210     0.126450  0.2040         0   \n\n   instrumentalness  key  liveness  loudness  mode  popularity  speechiness  \\\n0             0.563   10    0.1510  0.745000     1        0.00       0.0506   \n1             0.901    8    0.0763  0.494026     1        0.00       0.0462   \n2             0.000    5    0.1190  0.627609     0        0.00       0.9290   \n3             0.887    1    0.1110  0.708887     0        0.00       0.0926   \n4             0.908   11    0.0980  0.676079     1        0.01       0.0424   \n\n      tempo  valence  year  day  month  \n0  0.485348   0.7790  1928    1      1  \n1  0.344019   0.0767  1928    1      1  \n2  0.439086   0.8800  1928    1      1  \n3  0.442470   0.7200  1928   25      9  \n4  0.254614   0.0693  1928    1      1  ",
      "text/html": "<div>\n<style scoped>\n    .dataframe tbody tr th:only-of-type {\n        vertical-align: middle;\n    }\n\n    .dataframe tbody tr th {\n        vertical-align: top;\n    }\n\n    .dataframe thead th {\n        text-align: right;\n    }\n</style>\n<table border=\"1\" class=\"dataframe\">\n  <thead>\n    <tr style=\"text-align: right;\">\n      <th></th>\n      <th>acousticness</th>\n      <th>artists</th>\n      <th>danceability</th>\n      <th>duration_ms</th>\n      <th>energy</th>\n      <th>explicit</th>\n      <th>instrumentalness</th>\n      <th>key</th>\n      <th>liveness</th>\n      <th>loudness</th>\n      <th>mode</th>\n      <th>popularity</th>\n      <th>speechiness</th>\n      <th>tempo</th>\n      <th>valence</th>\n      <th>year</th>\n      <th>day</th>\n      <th>month</th>\n    </tr>\n  </thead>\n  <tbody>\n    <tr>\n      <th>0</th>\n      <td>0.995</td>\n      <td>4880</td>\n      <td>0.708</td>\n      <td>0.028442</td>\n      <td>0.1950</td>\n      <td>0</td>\n      <td>0.563</td>\n      <td>10</td>\n      <td>0.1510</td>\n      <td>0.745000</td>\n      <td>1</td>\n      <td>0.00</td>\n      <td>0.0506</td>\n      <td>0.485348</td>\n      <td>0.7790</td>\n      <td>1928</td>\n      <td>1</td>\n      <td>1</td>\n    </tr>\n    <tr>\n      <th>1</th>\n      <td>0.994</td>\n      <td>25163</td>\n      <td>0.379</td>\n      <td>0.051316</td>\n      <td>0.0135</td>\n      <td>0</td>\n      <td>0.901</td>\n      <td>8</td>\n      <td>0.0763</td>\n      <td>0.494026</td>\n      <td>1</td>\n      <td>0.00</td>\n      <td>0.0462</td>\n      <td>0.344019</td>\n      <td>0.0767</td>\n      <td>1928</td>\n      <td>1</td>\n      <td>1</td>\n    </tr>\n    <tr>\n      <th>2</th>\n      <td>0.604</td>\n      <td>26351</td>\n      <td>0.749</td>\n      <td>0.018374</td>\n      <td>0.2200</td>\n      <td>0</td>\n      <td>0.000</td>\n      <td>5</td>\n      <td>0.1190</td>\n      <td>0.627609</td>\n      <td>0</td>\n      <td>0.00</td>\n      <td>0.9290</td>\n      <td>0.439086</td>\n      <td>0.8800</td>\n      <td>1928</td>\n      <td>1</td>\n      <td>1</td>\n    </tr>\n    <tr>\n      <th>3</th>\n      <td>0.995</td>\n      <td>9738</td>\n      <td>0.781</td>\n      <td>0.032538</td>\n      <td>0.1300</td>\n      <td>0</td>\n      <td>0.887</td>\n      <td>1</td>\n      <td>0.1110</td>\n      <td>0.708887</td>\n      <td>0</td>\n      <td>0.00</td>\n      <td>0.0926</td>\n      <td>0.442470</td>\n      <td>0.7200</td>\n      <td>1928</td>\n      <td>25</td>\n      <td>9</td>\n    </tr>\n    <tr>\n      <th>4</th>\n      <td>0.990</td>\n      <td>10245</td>\n      <td>0.210</td>\n      <td>0.126450</td>\n      <td>0.2040</td>\n      <td>0</td>\n      <td>0.908</td>\n      <td>11</td>\n      <td>0.0980</td>\n      <td>0.676079</td>\n      <td>1</td>\n      <td>0.01</td>\n      <td>0.0424</td>\n      <td>0.254614</td>\n      <td>0.0693</td>\n      <td>1928</td>\n      <td>1</td>\n      <td>1</td>\n    </tr>\n  </tbody>\n</table>\n</div>"
     },
     "metadata": {},
     "execution_count": 28
    }
   ],
   "source": [
    "import numpy as np\n",
    "import pandas as pd\n",
    "import matplotlib.pyplot as plt\n",
    "import seaborn as sns\n",
    "import matplotlib as mpl\n",
    "\n",
    "\n",
    "\n",
    "%store -r Spo_Clean_Data\n",
    "\n",
    "%store -r Spo_Data\n",
    "\n",
    "Spo_Clean_Data.head()"
   ]
  },
  {
   "cell_type": "code",
   "execution_count": 71,
   "metadata": {},
   "outputs": [
    {
     "output_type": "execute_result",
     "data": {
      "text/plain": "        duration_ms  loudness  mode  popularity  speechiness     tempo  year\n0          0.028442  0.745000     1        0.00       0.0506  0.485348  1928\n1          0.051316  0.494026     1        0.00       0.0462  0.344019  1928\n2          0.018374  0.627609     0        0.00       0.9290  0.439086  1928\n3          0.032538  0.708887     0        0.00       0.0926  0.442470  1928\n4          0.126450  0.676079     1        0.01       0.0424  0.254614  1928\n...             ...       ...   ...         ...          ...       ...   ...\n169904     0.029396  0.822786     1        0.75       0.1430  0.409732  2020\n169905     0.030076  0.768820     1        0.64       0.0403  0.524395  2020\n169906     0.032527  0.793485     1        0.70       0.1050  0.506778  2020\n169907     0.030046  0.899585     1        0.70       0.0385  0.532244  2020\n169908     0.038841  0.823945     1        0.65       0.0271  0.330156  2020\n\n[169909 rows x 7 columns]",
      "text/html": "<div>\n<style scoped>\n    .dataframe tbody tr th:only-of-type {\n        vertical-align: middle;\n    }\n\n    .dataframe tbody tr th {\n        vertical-align: top;\n    }\n\n    .dataframe thead th {\n        text-align: right;\n    }\n</style>\n<table border=\"1\" class=\"dataframe\">\n  <thead>\n    <tr style=\"text-align: right;\">\n      <th></th>\n      <th>duration_ms</th>\n      <th>loudness</th>\n      <th>mode</th>\n      <th>popularity</th>\n      <th>speechiness</th>\n      <th>tempo</th>\n      <th>year</th>\n    </tr>\n  </thead>\n  <tbody>\n    <tr>\n      <th>0</th>\n      <td>0.028442</td>\n      <td>0.745000</td>\n      <td>1</td>\n      <td>0.00</td>\n      <td>0.0506</td>\n      <td>0.485348</td>\n      <td>1928</td>\n    </tr>\n    <tr>\n      <th>1</th>\n      <td>0.051316</td>\n      <td>0.494026</td>\n      <td>1</td>\n      <td>0.00</td>\n      <td>0.0462</td>\n      <td>0.344019</td>\n      <td>1928</td>\n    </tr>\n    <tr>\n      <th>2</th>\n      <td>0.018374</td>\n      <td>0.627609</td>\n      <td>0</td>\n      <td>0.00</td>\n      <td>0.9290</td>\n      <td>0.439086</td>\n      <td>1928</td>\n    </tr>\n    <tr>\n      <th>3</th>\n      <td>0.032538</td>\n      <td>0.708887</td>\n      <td>0</td>\n      <td>0.00</td>\n      <td>0.0926</td>\n      <td>0.442470</td>\n      <td>1928</td>\n    </tr>\n    <tr>\n      <th>4</th>\n      <td>0.126450</td>\n      <td>0.676079</td>\n      <td>1</td>\n      <td>0.01</td>\n      <td>0.0424</td>\n      <td>0.254614</td>\n      <td>1928</td>\n    </tr>\n    <tr>\n      <th>...</th>\n      <td>...</td>\n      <td>...</td>\n      <td>...</td>\n      <td>...</td>\n      <td>...</td>\n      <td>...</td>\n      <td>...</td>\n    </tr>\n    <tr>\n      <th>169904</th>\n      <td>0.029396</td>\n      <td>0.822786</td>\n      <td>1</td>\n      <td>0.75</td>\n      <td>0.1430</td>\n      <td>0.409732</td>\n      <td>2020</td>\n    </tr>\n    <tr>\n      <th>169905</th>\n      <td>0.030076</td>\n      <td>0.768820</td>\n      <td>1</td>\n      <td>0.64</td>\n      <td>0.0403</td>\n      <td>0.524395</td>\n      <td>2020</td>\n    </tr>\n    <tr>\n      <th>169906</th>\n      <td>0.032527</td>\n      <td>0.793485</td>\n      <td>1</td>\n      <td>0.70</td>\n      <td>0.1050</td>\n      <td>0.506778</td>\n      <td>2020</td>\n    </tr>\n    <tr>\n      <th>169907</th>\n      <td>0.030046</td>\n      <td>0.899585</td>\n      <td>1</td>\n      <td>0.70</td>\n      <td>0.0385</td>\n      <td>0.532244</td>\n      <td>2020</td>\n    </tr>\n    <tr>\n      <th>169908</th>\n      <td>0.038841</td>\n      <td>0.823945</td>\n      <td>1</td>\n      <td>0.65</td>\n      <td>0.0271</td>\n      <td>0.330156</td>\n      <td>2020</td>\n    </tr>\n  </tbody>\n</table>\n<p>169909 rows × 7 columns</p>\n</div>"
     },
     "metadata": {},
     "execution_count": 71
    }
   ],
   "source": [
    "df = Spo_Clean_Data.drop(['acousticness' , 'danceability', 'instrumentalness', 'explicit', 'valence', 'key','day', 'month', 'artists', 'energy', 'liveness', 'energy', 'energy'], axis=1)\n",
    "df"
   ]
  },
  {
   "cell_type": "code",
   "execution_count": 72,
   "metadata": {},
   "outputs": [],
   "source": [
    "dataset = df\n",
    "X = dataset.drop('mode', axis=1)\n",
    "y = dataset['mode']\n"
   ]
  },
  {
   "cell_type": "code",
   "execution_count": 73,
   "metadata": {},
   "outputs": [],
   "source": [
    "from sklearn.model_selection import train_test_split\n",
    "X_train, X_test, y_train, y_test = train_test_split(X, y, test_size=0.20)"
   ]
  },
  {
   "cell_type": "code",
   "execution_count": 74,
   "metadata": {},
   "outputs": [
    {
     "output_type": "execute_result",
     "data": {
      "text/plain": "DecisionTreeClassifier()"
     },
     "metadata": {},
     "execution_count": 74
    }
   ],
   "source": [
    "from sklearn.tree import DecisionTreeClassifier\n",
    "classifier = DecisionTreeClassifier()\n",
    "classifier.fit(X_train, y_train)"
   ]
  },
  {
   "cell_type": "code",
   "execution_count": 75,
   "metadata": {},
   "outputs": [
    {
     "output_type": "execute_result",
     "data": {
      "text/plain": "array([1, 1, 0, ..., 1, 0, 1], dtype=int64)"
     },
     "metadata": {},
     "execution_count": 75
    }
   ],
   "source": [
    "y_pred = classifier.predict(X_test)\n",
    "y_pred"
   ]
  },
  {
   "cell_type": "code",
   "execution_count": 76,
   "metadata": {
    "tags": []
   },
   "outputs": [
    {
     "output_type": "stream",
     "name": "stdout",
     "text": "[[ 3481  6550]\n [ 6761 17190]]\n              precision    recall  f1-score   support\n\n           0       0.34      0.35      0.34     10031\n           1       0.72      0.72      0.72     23951\n\n    accuracy                           0.61     33982\n   macro avg       0.53      0.53      0.53     33982\nweighted avg       0.61      0.61      0.61     33982\n\n"
    }
   ],
   "source": [
    "from sklearn.metrics import classification_report, confusion_matrix\n",
    "print(confusion_matrix(y_test, y_pred))\n",
    "print(classification_report(y_test, y_pred))"
   ]
  },
  {
   "cell_type": "code",
   "execution_count": 77,
   "metadata": {},
   "outputs": [],
   "source": [
    "from sklearn.model_selection import train_test_split\n",
    "X_train, X_test, y_train, y_test = train_test_split(X, y, test_size=0.2, random_state=0)"
   ]
  },
  {
   "cell_type": "code",
   "execution_count": 78,
   "metadata": {},
   "outputs": [
    {
     "output_type": "execute_result",
     "data": {
      "text/plain": "DecisionTreeRegressor()"
     },
     "metadata": {},
     "execution_count": 78
    }
   ],
   "source": [
    "from sklearn.tree import DecisionTreeRegressor\n",
    "regressor = DecisionTreeRegressor()\n",
    "regressor.fit(X_train, y_train)"
   ]
  },
  {
   "cell_type": "code",
   "execution_count": 79,
   "metadata": {},
   "outputs": [],
   "source": [
    "y_pred = regressor.predict(X_test)"
   ]
  },
  {
   "cell_type": "code",
   "execution_count": 80,
   "metadata": {},
   "outputs": [
    {
     "output_type": "execute_result",
     "data": {
      "text/plain": "        Actual  Predicted\n34530        1        1.0\n54303        1        1.0\n119544       0        1.0\n132124       1        1.0\n165993       1        1.0\n...        ...        ...\n27979        1        1.0\n108428       1        1.0\n83427        1        1.0\n67859        0        0.0\n110456       1        1.0\n\n[33982 rows x 2 columns]",
      "text/html": "<div>\n<style scoped>\n    .dataframe tbody tr th:only-of-type {\n        vertical-align: middle;\n    }\n\n    .dataframe tbody tr th {\n        vertical-align: top;\n    }\n\n    .dataframe thead th {\n        text-align: right;\n    }\n</style>\n<table border=\"1\" class=\"dataframe\">\n  <thead>\n    <tr style=\"text-align: right;\">\n      <th></th>\n      <th>Actual</th>\n      <th>Predicted</th>\n    </tr>\n  </thead>\n  <tbody>\n    <tr>\n      <th>34530</th>\n      <td>1</td>\n      <td>1.0</td>\n    </tr>\n    <tr>\n      <th>54303</th>\n      <td>1</td>\n      <td>1.0</td>\n    </tr>\n    <tr>\n      <th>119544</th>\n      <td>0</td>\n      <td>1.0</td>\n    </tr>\n    <tr>\n      <th>132124</th>\n      <td>1</td>\n      <td>1.0</td>\n    </tr>\n    <tr>\n      <th>165993</th>\n      <td>1</td>\n      <td>1.0</td>\n    </tr>\n    <tr>\n      <th>...</th>\n      <td>...</td>\n      <td>...</td>\n    </tr>\n    <tr>\n      <th>27979</th>\n      <td>1</td>\n      <td>1.0</td>\n    </tr>\n    <tr>\n      <th>108428</th>\n      <td>1</td>\n      <td>1.0</td>\n    </tr>\n    <tr>\n      <th>83427</th>\n      <td>1</td>\n      <td>1.0</td>\n    </tr>\n    <tr>\n      <th>67859</th>\n      <td>0</td>\n      <td>0.0</td>\n    </tr>\n    <tr>\n      <th>110456</th>\n      <td>1</td>\n      <td>1.0</td>\n    </tr>\n  </tbody>\n</table>\n<p>33982 rows × 2 columns</p>\n</div>"
     },
     "metadata": {},
     "execution_count": 80
    }
   ],
   "source": [
    "df=pd.DataFrame({'Actual':y_test, 'Predicted':y_pred})\n",
    "df"
   ]
  },
  {
   "cell_type": "code",
   "execution_count": 81,
   "metadata": {
    "tags": []
   },
   "outputs": [
    {
     "output_type": "stream",
     "name": "stdout",
     "text": "Mean Absolute Error: 0.38847036666470486\nMean Squared Error: 0.38847036666470486\nRoot Mean Squared Error: 0.6232739098219215\n"
    }
   ],
   "source": [
    "from sklearn import metrics\n",
    "print('Mean Absolute Error:', metrics.mean_absolute_error(y_test, y_pred))\n",
    "print('Mean Squared Error:', metrics.mean_squared_error(y_test, y_pred))\n",
    "print('Root Mean Squared Error:', np.sqrt(metrics.mean_squared_error(y_test, y_pred)))"
   ]
  },
  {
   "cell_type": "code",
   "execution_count": null,
   "metadata": {},
   "outputs": [],
   "source": []
  }
 ]
}